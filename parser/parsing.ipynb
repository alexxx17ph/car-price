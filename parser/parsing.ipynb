{
 "cells": [
  {
   "cell_type": "code",
   "execution_count": 37,
   "metadata": {},
   "outputs": [],
   "source": [
    "import requests\n",
    "from bs4 import BeautifulSoup\n",
    "import pandas as pd\n",
    "import time\n",
    "import random\n",
    "from tqdm.notebook import tqdm"
   ]
  },
  {
   "cell_type": "markdown",
   "metadata": {},
   "source": [
    "Получаем кол-во страниц и ссылки на объявления с первой страницы"
   ]
  },
  {
   "cell_type": "code",
   "execution_count": 38,
   "metadata": {},
   "outputs": [],
   "source": [
    "# URL для парсинга и заголовки\n",
    "url = 'https://kolesa.kz/cars/vaz/2190/'\n",
    "headers = {\n",
    "    'User-Agent': 'Mozilla/5.0 (Windows NT 10.0; Win64; x64) AppleWebKit/537.36 (KHTML, like Gecko) Chrome/133.0.0.0 Safari/537.36'}"
   ]
  },
  {
   "cell_type": "code",
   "execution_count": 39,
   "metadata": {},
   "outputs": [
    {
     "name": "stdout",
     "output_type": "stream",
     "text": [
      "Статус-код запроса: 200\n"
     ]
    }
   ],
   "source": [
    "#  Отправляем GET-запрос\n",
    "response = requests.get(url, headers=headers)\n",
    "\n",
    "#  Проверяем, успешно ли загрузилась страница\n",
    "print(f'Статус-код запроса: {response.status_code}')"
   ]
  },
  {
   "cell_type": "code",
   "execution_count": 40,
   "metadata": {},
   "outputs": [],
   "source": [
    "#  Записываем html страницы в файл\n",
    "with open(\"response.txt\", \"w\", encoding=\"utf-8\") as file:\n",
    "    file.write(response.text)\n",
    "\n",
    "#  Записываем html в переменную (первая страница)\n",
    "cod1 = response.text"
   ]
  },
  {
   "cell_type": "code",
   "execution_count": 41,
   "metadata": {},
   "outputs": [
    {
     "name": "stdout",
     "output_type": "stream",
     "text": [
      "Количество объявлений на странице: 20\n"
     ]
    }
   ],
   "source": [
    "#  Вытаскиваем ссылки на объявления с первой страницы\n",
    "parser = BeautifulSoup(cod1, 'html.parser')\n",
    "link = []\n",
    "\n",
    "for teg in parser.select('a[class=\"a-card__link\"]'): #  Вытаскиваем теги с ссылками и перебираем их\n",
    "        link.append('https://kolesa.kz' + teg['href']) #  Вытаскиваем ссылку из тега и добавляем в список\n",
    "        link = list(set(link)) #  Удаляем повторения (ссылки повторяются по 2 раза)\n",
    "\n",
    "print(f'Количество объявлений на странице: {len(link)}')"
   ]
  },
  {
   "cell_type": "code",
   "execution_count": 42,
   "metadata": {},
   "outputs": [
    {
     "name": "stdout",
     "output_type": "stream",
     "text": [
      "Количество страниц: 115\n"
     ]
    }
   ],
   "source": [
    "#  Находим теги с ссылками на страницы, чтобы узнать общее кол-во страниц\n",
    "pages = parser.find_all(\"a\", href=lambda href: href and \"/cars/vaz/2190/?page=\" in href)\n",
    "\n",
    "for page in pages[:-1]: # перебираем теги кроме последнего (предпоследнее значение это последняя страница)\n",
    "    quantity_pages = page.text # вытаскиваем номер страницы и переприсваиваем переменной\n",
    "\n",
    "quantity_pages = int(quantity_pages) # переводим в число (кол-во страниц)\n",
    "print(f'Количество страниц: {quantity_pages}')"
   ]
  },
  {
   "cell_type": "markdown",
   "metadata": {},
   "source": [
    "Перебираем все страницы и получаем ссылки на все объявления"
   ]
  },
  {
   "cell_type": "code",
   "execution_count": 44,
   "metadata": {},
   "outputs": [
    {
     "data": {
      "application/vnd.jupyter.widget-view+json": {
       "model_id": "4e78a46b2d714e26b3a4cf27c65bd902",
       "version_major": 2,
       "version_minor": 0
      },
      "text/plain": [
       "Перебор страниц:   0%|          | 0/114 [00:00<?, ?pages/s]"
      ]
     },
     "metadata": {},
     "output_type": "display_data"
    },
    {
     "name": "stdout",
     "output_type": "stream",
     "text": [
      "Ждем 2.41 секунд...\n",
      "Ждем 1.87 секунд...\n",
      "Ждем 1.20 секунд...\n",
      "Ждем 1.54 секунд...\n",
      "Ждем 1.41 секунд...\n",
      "Ждем 2.22 секунд...\n",
      "Ждем 2.14 секунд...\n",
      "Ждем 2.91 секунд...\n",
      "Ждем 2.12 секунд...\n",
      "Ждем 1.79 секунд...\n",
      "Ждем 2.38 секунд...\n",
      "Ждем 1.32 секунд...\n",
      "Ждем 1.64 секунд...\n",
      "Ждем 2.79 секунд...\n",
      "Ждем 1.36 секунд...\n",
      "Ждем 2.07 секунд...\n",
      "Ждем 1.79 секунд...\n",
      "Ждем 2.45 секунд...\n",
      "Ждем 2.59 секунд...\n",
      "Ждем 1.47 секунд...\n",
      "Ждем 1.38 секунд...\n",
      "Ждем 1.46 секунд...\n",
      "Ждем 1.98 секунд...\n",
      "Ждем 1.73 секунд...\n",
      "Ждем 1.24 секунд...\n",
      "Ждем 1.81 секунд...\n",
      "Ждем 2.62 секунд...\n",
      "Ждем 2.19 секунд...\n",
      "Ждем 1.97 секунд...\n",
      "Ждем 2.51 секунд...\n",
      "Ждем 1.32 секунд...\n",
      "Ждем 1.53 секунд...\n",
      "Ждем 1.87 секунд...\n",
      "Ждем 1.69 секунд...\n",
      "Ждем 1.49 секунд...\n",
      "Ждем 2.15 секунд...\n",
      "Ждем 2.18 секунд...\n",
      "Ждем 2.99 секунд...\n",
      "Ждем 1.64 секунд...\n",
      "Ждем 1.68 секунд...\n",
      "Ждем 1.62 секунд...\n",
      "Ждем 2.98 секунд...\n",
      "Ждем 1.15 секунд...\n",
      "Ждем 2.85 секунд...\n",
      "Ждем 1.12 секунд...\n",
      "Ждем 1.44 секунд...\n",
      "Ждем 1.29 секунд...\n",
      "Ждем 2.66 секунд...\n",
      "Ждем 1.48 секунд...\n",
      "Ждем 2.45 секунд...\n",
      "Ждем 1.87 секунд...\n",
      "Ждем 3.00 секунд...\n",
      "Ждем 1.03 секунд...\n",
      "Ждем 2.98 секунд...\n",
      "Ждем 2.78 секунд...\n",
      "Ждем 1.99 секунд...\n",
      "Ждем 1.52 секунд...\n",
      "Ждем 2.22 секунд...\n",
      "Ждем 2.50 секунд...\n",
      "Ждем 1.43 секунд...\n",
      "Ждем 1.00 секунд...\n",
      "Ждем 1.07 секунд...\n",
      "Ждем 1.20 секунд...\n",
      "Ждем 1.96 секунд...\n",
      "Ждем 2.35 секунд...\n",
      "Ждем 1.17 секунд...\n",
      "Ждем 3.00 секунд...\n",
      "Ждем 2.91 секунд...\n",
      "Ждем 1.02 секунд...\n",
      "Ждем 1.52 секунд...\n",
      "Ждем 1.11 секунд...\n",
      "Ждем 1.13 секунд...\n",
      "Ждем 1.80 секунд...\n",
      "Ждем 1.83 секунд...\n",
      "Ждем 1.22 секунд...\n",
      "Ждем 2.47 секунд...\n",
      "Ждем 2.16 секунд...\n",
      "Ждем 2.69 секунд...\n",
      "Ждем 1.77 секунд...\n",
      "Ждем 1.63 секунд...\n",
      "Ждем 1.06 секунд...\n",
      "Ждем 2.46 секунд...\n",
      "Ждем 2.99 секунд...\n",
      "Ждем 2.45 секунд...\n",
      "Ждем 1.20 секунд...\n",
      "Ждем 1.05 секунд...\n",
      "Ждем 2.08 секунд...\n",
      "Ждем 2.43 секунд...\n",
      "Ждем 1.06 секунд...\n",
      "Ждем 1.38 секунд...\n",
      "Ждем 1.52 секунд...\n",
      "Ждем 1.78 секунд...\n",
      "Ждем 1.35 секунд...\n",
      "Ждем 2.12 секунд...\n",
      "Ждем 1.33 секунд...\n",
      "Ждем 1.48 секунд...\n",
      "Ждем 1.08 секунд...\n",
      "Ждем 1.54 секунд...\n",
      "Ждем 2.15 секунд...\n",
      "Ждем 1.53 секунд...\n",
      "Ждем 2.86 секунд...\n",
      "Ждем 1.33 секунд...\n",
      "Ждем 2.75 секунд...\n",
      "Ждем 2.40 секунд...\n",
      "Ждем 2.36 секунд...\n",
      "Ждем 1.00 секунд...\n",
      "Ждем 1.24 секунд...\n",
      "Ждем 2.39 секунд...\n",
      "Ждем 1.60 секунд...\n",
      "Ждем 1.15 секунд...\n",
      "Ждем 2.37 секунд...\n",
      "Ждем 1.53 секунд...\n",
      "Ждем 1.04 секунд...\n",
      "Ждем 1.99 секунд...\n",
      "Кол-во объявлений: 2297\n",
      "Страниц с ошибками: 0\n"
     ]
    }
   ],
   "source": [
    "page_error = {}\n",
    "\n",
    "#  Базовая ссылка на страницу\n",
    "url_base = 'https://kolesa.kz/cars/vaz/2190/?page='\n",
    "\n",
    "#  Перебираем все страницы со второй\n",
    "for page in tqdm(range(2, quantity_pages + 1), desc='Перебор страниц', unit='pages'):\n",
    "   url = f'{url_base}{page}' #  Формируем ссылку для конкретной страницы\n",
    "   response = requests.get(url, headers=headers)\n",
    "   if response.status_code == 200: #  Если все ок - сохраняем код страницы\n",
    "      cod_page = response.text\n",
    "\n",
    "      parser = BeautifulSoup(cod_page, 'html.parser')\n",
    "      new_link = []\n",
    "\n",
    "      #  Вытаскиваем все ссылки на объявления со страниц и собираем в список\n",
    "      for teg in parser.select('a[class=\"a-card__link\"]'):\n",
    "        new_link.append('https://kolesa.kz' + teg['href'])\n",
    "        new_link = list(set(new_link))\n",
    "      link = link + new_link\n",
    "\n",
    "      #  Рандомная задержка от 1 до 3 секунд\n",
    "      delay = random.uniform(1, 3)\n",
    "      print(f\"Ждем {delay:.2f} секунд...\")\n",
    "      time.sleep(delay)\n",
    "\n",
    "   else:\n",
    "      print(f'Код ошибки: {response.status_code}') #  Выводим код ошибки если что-то пошло не так\n",
    "      page_error.update({'page': page, 'error': response.status_code})\n",
    "\n",
    "print(f'Кол-во объявлений: {len(link)}')\n",
    "print(f'Страниц с ошибками: {len(page_error)}')"
   ]
  },
  {
   "cell_type": "code",
   "execution_count": null,
   "metadata": {},
   "outputs": [],
   "source": [
    "#  Сохраняем ссылки\n",
    "auto_links = pd.Series(link)\n",
    "auto_links.to_csv('auto_links_new.csv', index=False)"
   ]
  },
  {
   "cell_type": "markdown",
   "metadata": {},
   "source": [
    "Парсим характеристики авто из объявлений"
   ]
  },
  {
   "cell_type": "code",
   "execution_count": 51,
   "metadata": {},
   "outputs": [],
   "source": [
    "#  Проверка есть ли на странице каптча, или временная блокировка\n",
    "def check_captcha(url_i):\n",
    "    while True:\n",
    "        response = requests.get(url_i, headers=headers, timeout=15)\n",
    "        if response.status_code == 429:\n",
    "            print(\"Слишком много запросов! Жду 10 минут...\")\n",
    "            time.sleep(600)\n",
    "            continue\n",
    "        elif 'captcha' in response.text.lower() and len(response.text) < 5000:\n",
    "            print(\"Капча обнаружена! Жду 10 минут...\")\n",
    "            time.sleep(600)  # Ждём 10 минут и пробуем заново\n",
    "            continue\n",
    "\n",
    "        else:\n",
    "            return response"
   ]
  },
  {
   "cell_type": "code",
   "execution_count": 60,
   "metadata": {},
   "outputs": [],
   "source": [
    "all_params = []"
   ]
  },
  {
   "cell_type": "code",
   "execution_count": null,
   "metadata": {},
   "outputs": [
    {
     "data": {
      "application/vnd.jupyter.widget-view+json": {
       "model_id": "9398ad0de49641b2bfa2cc71852df185",
       "version_major": 2,
       "version_minor": 0
      },
      "text/plain": [
       "Парсинг объявлений:   0%|          | 0/2297 [00:00<?, ?obj/s]"
      ]
     },
     "metadata": {},
     "output_type": "display_data"
    },
    {
     "name": "stdout",
     "output_type": "stream",
     "text": [
      "Объявление: 1\n",
      "Собрано 1 объявлений\n",
      "Ждем 6.13 секунд...\n",
      "Объявление: 2\n",
      "Собрано 2 объявлений\n",
      "Ждем 5.29 секунд...\n",
      "Объявление: 3\n",
      "Собрано 3 объявлений\n",
      "Ждем 5.28 секунд...\n",
      "Объявление: 4\n",
      "Собрано 4 объявлений\n",
      "Ждем 7.48 секунд...\n",
      "Объявление: 5\n",
      "Собрано 5 объявлений\n",
      "Ждем 7.43 секунд...\n",
      "Объявление: 6\n",
      "Собрано 6 объявлений\n",
      "Ждем 5.05 секунд...\n",
      "Объявление: 7\n",
      "Собрано 7 объявлений\n",
      "Ждем 8.62 секунд...\n",
      "Объявление: 8\n",
      "Собрано 8 объявлений\n",
      "Ждем 8.07 секунд...\n",
      "Объявление: 9\n",
      "Собрано 9 объявлений\n",
      "Ждем 7.90 секунд...\n",
      "Объявление: 10\n",
      "Собрано 10 объявлений\n",
      "Ждем 6.28 секунд...\n",
      "Объявление: 11\n",
      "Собрано 11 объявлений\n",
      "Ждем 9.87 секунд...\n",
      "Объявление: 12\n",
      "Собрано 12 объявлений\n",
      "Ждем 8.98 секунд...\n",
      "Объявление: 13\n",
      "Собрано 13 объявлений\n",
      "Ждем 5.40 секунд...\n",
      "Объявление: 14\n",
      "Собрано 14 объявлений\n",
      "Ждем 8.87 секунд...\n",
      "Объявление: 15\n",
      "Собрано 15 объявлений\n",
      "Ждем 7.72 секунд...\n",
      "Объявление: 16\n",
      "Собрано 16 объявлений\n",
      "Ждем 7.17 секунд...\n"
     ]
    },
    {
     "ename": "KeyboardInterrupt",
     "evalue": "",
     "output_type": "error",
     "traceback": [
      "\u001b[31m---------------------------------------------------------------------------\u001b[39m",
      "\u001b[31mKeyboardInterrupt\u001b[39m                         Traceback (most recent call last)",
      "\u001b[36mCell\u001b[39m\u001b[36m \u001b[39m\u001b[32mIn[61]\u001b[39m\u001b[32m, line 67\u001b[39m\n\u001b[32m     65\u001b[39m delay = random.uniform(\u001b[32m5\u001b[39m, \u001b[32m10\u001b[39m)\n\u001b[32m     66\u001b[39m \u001b[38;5;28mprint\u001b[39m(\u001b[33mf\u001b[39m\u001b[33m\"\u001b[39m\u001b[33mЖдем \u001b[39m\u001b[38;5;132;01m{\u001b[39;00mdelay\u001b[38;5;132;01m:\u001b[39;00m\u001b[33m.2f\u001b[39m\u001b[38;5;132;01m}\u001b[39;00m\u001b[33m секунд...\u001b[39m\u001b[33m\"\u001b[39m)\n\u001b[32m---> \u001b[39m\u001b[32m67\u001b[39m \u001b[43mtime\u001b[49m\u001b[43m.\u001b[49m\u001b[43msleep\u001b[49m\u001b[43m(\u001b[49m\u001b[43mdelay\u001b[49m\u001b[43m)\u001b[49m\n\u001b[32m     69\u001b[39m \u001b[38;5;66;03m# Рандомная задержка от 5 до 10 минут, каждые 500 итераций\u001b[39;00m\n\u001b[32m     70\u001b[39m \u001b[38;5;28;01mif\u001b[39;00m (i + \u001b[32m1\u001b[39m) % \u001b[32m500\u001b[39m == \u001b[32m0\u001b[39m:\n",
      "\u001b[31mKeyboardInterrupt\u001b[39m: "
     ]
    }
   ],
   "source": [
    "#  Характеристики\n",
    "title = ['Поколение', 'Кузов', 'Объем двигателя, л', 'Пробег', 'Коробка передач', 'Привод', 'Руль', 'Цвет', 'Растаможен в Казахстане']\n",
    "\n",
    "#  Перебираем объявления\n",
    "for i, url_i in tqdm(enumerate(link), desc='Парсинг объявлений', unit='obj', total=len(link)):\n",
    "    print(f'Объявление: {i + 1}')\n",
    "    params_i = []\n",
    "    response = check_captcha(url_i) #  Проверяем каптчу и блокировку\n",
    "\n",
    "    if response.status_code == 404:\n",
    "        print('Страница не найдена!')\n",
    "        not_found += 1\n",
    "        continue\n",
    "    \n",
    "    elif response.status_code == 200:\n",
    "        code = response.text\n",
    "        parser = BeautifulSoup(code, 'html.parser')\n",
    "\n",
    "        model_teg = parser.select_one('span[itemprop=\"brand\"]') # Тег - модель\n",
    "        params_i.append(model_teg.text.strip()) \n",
    "        year_teg = parser.select_one('span[class=\"year\"]') # Тег - год\n",
    "        params_i.append(year_teg.text.strip()) \n",
    "        city_teg = parser.select_one('dt[class=\"value-title\"]') # Тег - город\n",
    "        if city_teg: \n",
    "            value_teg = city_teg.find_next_sibling('dd')\n",
    "            params_i.append(value_teg.text.strip())\n",
    "        else:\n",
    "            params_i.append(None)\n",
    "        \n",
    "        for param in title: #  Перебираем теги с параметрами\n",
    "            dt_teg = parser.select_one(f'dt[title=\"{param}\"]')\n",
    "            if dt_teg:\n",
    "                dd_teg = dt_teg.find_next_sibling('dd')\n",
    "                params_i.append(dd_teg.text.strip())\n",
    "            else:\n",
    "                params_i.append(None) #  Если параметра нет, заполняем None\n",
    "\n",
    "        options_teg = parser.select('span[class=\"offer__option-label\"]') # Тег - опции\n",
    "        if options_teg:\n",
    "            options_i = []\n",
    "            for option in options_teg: \n",
    "                options_i.append(option.text.strip())\n",
    "            params_i.append(', '.join(options_i))\n",
    "        else:\n",
    "            params_i.append(None) #  Если опций нет, заполняем None\n",
    "        \n",
    "        #  Метка с состоянием авто\n",
    "        new_teg = parser.select_one('span[class=\"a-labels__item a-labels__item--new\"]') \n",
    "        avaria_teg = parser.select_one('div[class=\"offer__parameters-mortgaged\"]')\n",
    "        if new_teg:\n",
    "            params_i.append(new_teg.text.strip())\n",
    "        elif avaria_teg:\n",
    "            params_i.append(avaria_teg.text.strip())\n",
    "        else:\n",
    "            params_i.append('б/у')\n",
    "        \n",
    "        price_teg = parser.select_one('div[data-test=\"offer-price\"]') # Тег - цена\n",
    "        params_i.append(price_teg.text.replace(\"\\xa0\", \"\").replace(\"\\n\", \"\").replace(\"₸\", \"\").strip())\n",
    "        \n",
    "        #  Сохраняем все в список\n",
    "        all_params.append(params_i)\n",
    "        print(f'Собрано {len(all_params)} объявлений')\n",
    "\n",
    "        #  Рандомная задержка от 5 до 10 секунд\n",
    "        delay = random.uniform(5, 10)\n",
    "        print(f\"Ждем {delay:.2f} секунд...\")\n",
    "        time.sleep(delay)\n",
    "\n",
    "        #  Рандомная задержка от 5 до 10 минут, каждые 500 итераций\n",
    "        if (i + 1) % 500 == 0:\n",
    "            delay = random.uniform(600, 1200)\n",
    "            print(f\"Пауза {delay // 60} минут...\")\n",
    "            time.sleep(delay)\n",
    "\n",
    "    else:\n",
    "        print(f'Остановка парсера, ошибка: {response.status_code}')\n",
    "        print(f'Последний URL: {url_i}')\n",
    "        break"
   ]
  },
  {
   "cell_type": "markdown",
   "metadata": {},
   "source": [
    "Сохраняем объявления с характеристиками"
   ]
  },
  {
   "cell_type": "code",
   "execution_count": 71,
   "metadata": {},
   "outputs": [],
   "source": [
    "columns = ['Модель','Год','Город','Поколение','Кузов','Объем двигателя, л','Пробег','Коробка передач',\n",
    "           'Привод','Руль','Цвет','Растаможен в Казахстане','Опции','Состояние','Цена']\n",
    "\n",
    "all_params_df = pd.DataFrame(all_params, columns=columns)\n",
    "all_params_df.head()\n",
    "\n",
    "all_params_df.to_csv('all_params.csv', sep=',', index=False)"
   ]
  }
 ],
 "metadata": {
  "kernelspec": {
   "display_name": "venv",
   "language": "python",
   "name": "python3"
  },
  "language_info": {
   "codemirror_mode": {
    "name": "ipython",
    "version": 3
   },
   "file_extension": ".py",
   "mimetype": "text/x-python",
   "name": "python",
   "nbconvert_exporter": "python",
   "pygments_lexer": "ipython3",
   "version": "3.13.2"
  }
 },
 "nbformat": 4,
 "nbformat_minor": 2
}
